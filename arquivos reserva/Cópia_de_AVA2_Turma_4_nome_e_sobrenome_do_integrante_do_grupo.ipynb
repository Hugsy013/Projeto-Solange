{
  "cells": [
    {
      "cell_type": "markdown",
      "metadata": {
        "id": "G7HUYQ0NQvAh"
      },
      "source": [
        "# AVA2 - Turma 4 - objetivo: fazer uma análise exploratória do dados\n",
        "#### Entrega: até às 23h59 do dia 30/04/2025"
      ]
    },
    {
      "cell_type": "code",
      "execution_count": null,
      "metadata": {
        "id": "fYibnrXoDJl1"
      },
      "outputs": [],
      "source": [
        "########################################################################################################################\n",
        "# Nomes e RAS\n",
        "#\n",
        "#\n",
        "#\n",
        "#"
      ]
    },
    {
      "cell_type": "markdown",
      "metadata": {
        "id": "nQmLpuChbEEH"
      },
      "source": [
        "# Importanto pacotes"
      ]
    },
    {
      "cell_type": "code",
      "execution_count": null,
      "metadata": {
        "id": "7wBQZUTEanSN"
      },
      "outputs": [],
      "source": [
        "# Carrega a biblioteca pandas e atribui um alias chamado \"pd\"\n",
        "import pandas as pd\n",
        "import numpy as np\n",
        "# Visualização de dados\n",
        "import matplotlib.pyplot as plt\n",
        "import seaborn as sns\n",
        "\n",
        "# Deixar colunas e linhas aparentes\n",
        "pd.set_option('display.max_columns', None)\n",
        "pd.set_option('display.max_rows', None)"
      ]
    },
    {
      "cell_type": "markdown",
      "metadata": {
        "id": "MGVouDpubNRX"
      },
      "source": [
        "# Conectando com o drive"
      ]
    },
    {
      "cell_type": "code",
      "execution_count": null,
      "metadata": {
        "id": "vryEJJf6Vw02",
        "outputId": "97cf4d48-852a-46d8-f3d4-946aadd8ba60",
        "colab": {
          "base_uri": "https://localhost:8080/"
        }
      },
      "outputs": [
        {
          "output_type": "stream",
          "name": "stdout",
          "text": [
            "Drive already mounted at /content/drive/; to attempt to forcibly remount, call drive.mount(\"/content/drive/\", force_remount=True).\n"
          ]
        }
      ],
      "source": [
        "# Conexão com o drive\n",
        "from google.colab import drive\n",
        "drive.mount('/content/drive/')"
      ]
    },
    {
      "cell_type": "markdown",
      "metadata": {
        "id": "vGWovAwDbTnt"
      },
      "source": [
        "# Leitura da tabela de dados"
      ]
    },
    {
      "cell_type": "code",
      "execution_count": null,
      "metadata": {
        "id": "ecBw6XLpRA_t",
        "outputId": "4f452c09-9273-45e5-a05f-044df37688bb",
        "colab": {
          "base_uri": "https://localhost:8080/"
        }
      },
      "outputs": [
        {
          "output_type": "execute_result",
          "data": {
            "text/plain": [
              "(5570, 32)"
            ]
          },
          "metadata": {},
          "execution_count": 24
        }
      ],
      "source": [
        "# Faz a leitura do arquivo igm_modificado.xlsx\n",
        "df = pd.read_excel('/content/drive/MyDrive/trabalho04_05_2025/igm_modificado.xlsx')\n",
        "\n",
        "# Mostra o número de linhas e de colunas do df\n",
        "df.shape"
      ]
    },
    {
      "cell_type": "markdown",
      "metadata": {
        "id": "-HVebabyp8SX"
      },
      "source": [
        "### 1. Faça as checagens dos dados: utilize 3 comandos que vimos em sala de aula. Um deles, obrigatoriamente, deve ser a sinalização se há ou não dados faltantes em cada uma das colunas. Analise os resultados com suas próprias palavras (0,5 ponto)"
      ]
    },
    {
      "cell_type": "code",
      "execution_count": null,
      "metadata": {
        "id": "GXAUjsTHqcYP"
      },
      "outputs": [],
      "source": [
        "print(\"\\nInformacoes gerais sobre o dataframe:\")\n",
        "print(df.info())"
      ]
    },
    {
      "cell_type": "code",
      "execution_count": null,
      "metadata": {
        "id": "eZaFcoHbqcVr"
      },
      "outputs": [],
      "source": [
        "print(\"\\nResumo estatistico das variaveis numericas:\")\n",
        "print(df.describe())"
      ]
    },
    {
      "cell_type": "code",
      "execution_count": null,
      "metadata": {
        "id": "P-XQlMQfqcTE"
      },
      "outputs": [],
      "source": [
        "print(\"\\nChecagem de dados faltantes:\")\n",
        "print(df.isnull().sum())"
      ]
    },
    {
      "cell_type": "markdown",
      "source": [
        "Observamos que algumas variaveis possuem dados faltantes. Isso e importante pois influencia as analises futuras.\n"
      ],
      "metadata": {
        "id": "6A6H_AToaecH"
      }
    },
    {
      "cell_type": "markdown",
      "metadata": {
        "id": "YOzZMclwqDQU"
      },
      "source": [
        "### 2.\tFaça a frequência simples e relativa de 2 variáveis categóricas. Analise os resultados com suas próprias palavras (0,5 ponto)"
      ]
    },
    {
      "cell_type": "code",
      "execution_count": null,
      "metadata": {
        "id": "UDXSk4MtqdI9"
      },
      "outputs": [],
      "source": [
        "print(\"\\nFrequencia simples - Regiao:\")\n",
        "print(df['regiao'].value_counts())"
      ]
    },
    {
      "cell_type": "code",
      "execution_count": null,
      "metadata": {
        "id": "S1KbPnsAqdGB"
      },
      "outputs": [],
      "source": [
        "print(\"\\nFrequencia relativa - Porte:\")\n",
        "print(df['porte'].value_counts(normalize=True))"
      ]
    },
    {
      "cell_type": "code",
      "execution_count": null,
      "metadata": {
        "id": "3VLILSBLqdDo"
      },
      "outputs": [],
      "source": []
    },
    {
      "cell_type": "markdown",
      "source": [
        "A maioria dos municipios pertence a determinada regiao e a maioria dos municipios sao de pequeno porte."
      ],
      "metadata": {
        "id": "BeogX_YOapDq"
      }
    },
    {
      "cell_type": "markdown",
      "metadata": {
        "id": "FCwsgWlYqDNV"
      },
      "source": [
        "### 3.\tApresente as medidas de tendência central, uma medida de posição relativa e uma medida de dispersão de 2 variáveis numéricas. Analise os resultados com suas próprias palavras (1,0 ponto)"
      ]
    },
    {
      "cell_type": "code",
      "execution_count": null,
      "metadata": {
        "id": "ZpKE5c1IqeHd"
      },
      "outputs": [],
      "source": [
        "for var in variaveis_numericas:\n",
        "    print(f\"\\nMedidas para {var}:\")\n",
        "    print(f\"Media: {df[var].mean():.2f}\")\n",
        "    print(f\"Mediana: {df[var].median():.2f}\")\n",
        "    print(f\"Desvio padrao: {df[var].std():.2f}\")\n",
        "    print(f\"Percentil 75: {df[var].quantile(0.75):.2f}\")"
      ]
    },
    {
      "cell_type": "code",
      "execution_count": null,
      "metadata": {
        "id": "hbsOanF-qeFJ"
      },
      "outputs": [],
      "source": []
    },
    {
      "cell_type": "code",
      "execution_count": null,
      "metadata": {
        "id": "DwGuDqo3qeCL"
      },
      "outputs": [],
      "source": []
    },
    {
      "cell_type": "markdown",
      "source": [
        "As medias e medianas sao proximas, indicando pouca assimetria. O desvio padrao mostra variacao entre municipios."
      ],
      "metadata": {
        "id": "C2_AV9n2azz3"
      }
    },
    {
      "cell_type": "markdown",
      "metadata": {
        "id": "47OBXJT3qDKk"
      },
      "source": [
        "### 4.\tDas variáveis numéricas escolhidas no item anterior, o que se pode afirmar sobre a assimetria da distribuição. Analise os resultados com suas próprias palavras (1,0 ponto)"
      ]
    },
    {
      "cell_type": "code",
      "execution_count": null,
      "metadata": {
        "id": "r_yGiRxCqe3W"
      },
      "outputs": [],
      "source": [
        "print(\"\\nAssimetria:\")\n",
        "print(df['pib_pc'].skew())\n",
        "print(df['exp_vida'].skew())"
      ]
    },
    {
      "cell_type": "code",
      "execution_count": null,
      "metadata": {
        "id": "RPElkihTqe03"
      },
      "outputs": [],
      "source": []
    },
    {
      "cell_type": "code",
      "execution_count": null,
      "metadata": {
        "id": "4c_9WoaEqex2"
      },
      "outputs": [],
      "source": []
    },
    {
      "cell_type": "markdown",
      "source": [
        "PIB per capita apresenta leve assimetria positiva, indicando alguns municipios muito ricos.\n",
        "Expectativa de vida tem distribuicao mais simetrica."
      ],
      "metadata": {
        "id": "twuLpNtsbBZI"
      }
    },
    {
      "cell_type": "markdown",
      "metadata": {
        "id": "F2ohDCn6qDH1"
      },
      "source": [
        "### 5.\tFaça um gráfico de setores ou pizza de uma variável categórica. Analise os resultados com suas próprias palavras (1,0 ponto)"
      ]
    },
    {
      "cell_type": "code",
      "execution_count": null,
      "metadata": {
        "id": "ZwLs2mtxqgPH"
      },
      "outputs": [],
      "source": [
        "plt.figure(figsize=(6,6))\n",
        "df['porte'].value_counts().plot.pie(autopct='%1.1f%%', startangle=90, colors=sns.color_palette('pastel'))\n",
        "plt.title('Distribuicao dos Municipios por Porte')\n",
        "plt.ylabel('')\n",
        "plt.show()"
      ]
    },
    {
      "cell_type": "code",
      "execution_count": null,
      "metadata": {
        "id": "VvXZLbnTqgId"
      },
      "outputs": [],
      "source": []
    },
    {
      "cell_type": "code",
      "execution_count": null,
      "metadata": {
        "id": "cLY6E1vOqgFe"
      },
      "outputs": [],
      "source": []
    },
    {
      "cell_type": "markdown",
      "source": [
        "A maioria dos municipios e de pequeno porte, conforme visto tambem nas frequencias."
      ],
      "metadata": {
        "id": "ytdOYMpJbGtq"
      }
    },
    {
      "cell_type": "markdown",
      "metadata": {
        "id": "vvIah-NQqDFL"
      },
      "source": [
        "### 6.\tFaça uma tabela com duas variáveis (cruzamento entre elas). Analise os resultados com suas próprias palavras (1,0 ponto)"
      ]
    },
    {
      "cell_type": "code",
      "execution_count": null,
      "metadata": {
        "id": "7-WQd0TkqhKu"
      },
      "outputs": [],
      "source": [
        "cross_tab = pd.crosstab(df['regiao'], df['porte'])\n",
        "print(\"\\nCruzamento entre Regiao e Porte:\")\n",
        "print(cross_tab)"
      ]
    },
    {
      "cell_type": "code",
      "execution_count": null,
      "metadata": {
        "id": "dLrykAZ8qhIE"
      },
      "outputs": [],
      "source": []
    },
    {
      "cell_type": "code",
      "execution_count": null,
      "metadata": {
        "id": "Lx6HJLUqqhFj"
      },
      "outputs": [],
      "source": []
    },
    {
      "cell_type": "markdown",
      "source": [
        "Algumas regioes concentram municipios maiores, enquanto outras possuem mais municipios pequenos."
      ],
      "metadata": {
        "id": "3PgG5fCabKa6"
      }
    },
    {
      "cell_type": "markdown",
      "metadata": {
        "id": "zBz9ALxdqDCb"
      },
      "source": [
        "### 7.\tEscolha uma variável numérica que tenha dado faltante. Veja qual a quantidade de dados faltantes e calcule a média e mediana dessa variável. Depois, substitua esses dados faltantes pela estatística que melhor se adeque e recalcule a média e mediana. Explique por que escolheu a estatística e analise as alterações nos resultados (1,0 ponto)"
      ]
    },
    {
      "cell_type": "code",
      "execution_count": null,
      "metadata": {
        "id": "vGuezACGqh5v"
      },
      "outputs": [],
      "source": [
        "variavel_faltante = 'anos_estudo_empreendedor'"
      ]
    },
    {
      "cell_type": "code",
      "execution_count": null,
      "metadata": {
        "id": "urw8iXPZqh2x"
      },
      "outputs": [],
      "source": [
        "print(\"\\nQuantidade de dados faltantes:\")\n",
        "print(df[variavel_faltante].isnull().sum())"
      ]
    },
    {
      "cell_type": "code",
      "execution_count": null,
      "metadata": {
        "id": "ILUE64bFqh0I"
      },
      "outputs": [],
      "source": [
        "print(\"Media e Mediana antes da substituicao:\")\n",
        "print(df[variavel_faltante].mean())\n",
        "print(df[variavel_faltante].median())"
      ]
    },
    {
      "cell_type": "code",
      "source": [
        "# Escolha: como a variavel pode ter outliers, vamos usar a mediana para substituir\n",
        "mediana_valor = df[variavel_faltante].median()\n",
        "df[variavel_faltante].fillna(mediana_valor, inplace=True)"
      ],
      "metadata": {
        "id": "opHFl0BubV_9"
      },
      "execution_count": null,
      "outputs": []
    },
    {
      "cell_type": "code",
      "source": [
        "print(\"\\nMedia e Mediana depois da substituicao:\")\n",
        "print(df[variavel_faltante].mean())\n",
        "print(df[variavel_faltante].median())"
      ],
      "metadata": {
        "id": "vtMgOxLmbZyW"
      },
      "execution_count": null,
      "outputs": []
    },
    {
      "cell_type": "markdown",
      "source": [
        "Escolhemos a mediana pois ela nao e influenciada por outliers. A media apos substituicao ficou mais proxima da mediana."
      ],
      "metadata": {
        "id": "ZooQj0BibcVA"
      }
    },
    {
      "cell_type": "markdown",
      "metadata": {
        "id": "EetvkKL6qSlQ"
      },
      "source": [
        "### 8.\tFaça um boxplot de uma variável numérica. Analise os resultados com suas próprias palavras (1,0 ponto)"
      ]
    },
    {
      "cell_type": "code",
      "execution_count": null,
      "metadata": {
        "id": "wlQOQijMqi3U"
      },
      "outputs": [],
      "source": [
        "plt.figure(figsize=(8,6))\n",
        "sns.boxplot(x=df['pib_pc'])\n",
        "plt.title('Boxplot do PIB per capita')\n",
        "plt.show()"
      ]
    },
    {
      "cell_type": "code",
      "execution_count": null,
      "metadata": {
        "id": "8cOEtPCQqi02"
      },
      "outputs": [],
      "source": []
    },
    {
      "cell_type": "code",
      "execution_count": null,
      "metadata": {
        "id": "gtg-O3yUqiyF"
      },
      "outputs": [],
      "source": []
    },
    {
      "cell_type": "markdown",
      "source": [
        "O boxplot mostra a presenca de outliers com PIB per capita muito alto em alguns municipios."
      ],
      "metadata": {
        "id": "xJAsD5qPbhB6"
      }
    },
    {
      "cell_type": "markdown",
      "metadata": {
        "id": "0Rfq3fWUqSii"
      },
      "source": [
        "### 9.\tFaça um boxplot da mesma variável numérica do item anterior por uma categórica. Analise os resultados com suas próprias palavras (1,0 ponto)"
      ]
    },
    {
      "cell_type": "code",
      "execution_count": null,
      "metadata": {
        "id": "q3fL6Ivrqj3Z"
      },
      "outputs": [],
      "source": [
        "plt.figure(figsize=(10,6))\n",
        "sns.boxplot(x='regiao', y='pib_pc', data=df)\n",
        "plt.title('Boxplot do PIB per capita por Regiao')\n",
        "plt.xticks(rotation=45)\n",
        "plt.show()"
      ]
    },
    {
      "cell_type": "code",
      "execution_count": null,
      "metadata": {
        "id": "RPvjJgliqjrZ"
      },
      "outputs": [],
      "source": []
    },
    {
      "cell_type": "code",
      "execution_count": null,
      "metadata": {
        "id": "xOQl05ymqjoh"
      },
      "outputs": [],
      "source": []
    },
    {
      "cell_type": "markdown",
      "source": [
        "Algumas regioes possuem PIB per capita mais elevado que outras, indicando desigualdades regionais."
      ],
      "metadata": {
        "id": "hXEogti5brwy"
      }
    },
    {
      "cell_type": "markdown",
      "metadata": {
        "id": "70ecrJEkqVXy"
      },
      "source": [
        "### 10.\tFaça o gráfico de dispersão da variável pib_pc com outras 2 variáveis numéricas (separadamente). Calcule as correlações entre elas. Analise os resultados com suas próprias palavras (1,0 ponto)"
      ]
    },
    {
      "cell_type": "code",
      "execution_count": null,
      "metadata": {
        "id": "8SE-dsVRqk63"
      },
      "outputs": [],
      "source": [
        "variaveis_para_correlacao = ['exp_vida', 'taxa_empreendedorismo']"
      ]
    },
    {
      "cell_type": "code",
      "execution_count": null,
      "metadata": {
        "id": "DeTR28yfqk4P"
      },
      "outputs": [],
      "source": [
        "for var in variaveis_para_correlacao:\n",
        "    plt.figure(figsize=(8,6))\n",
        "    sns.scatterplot(x=df[var], y=df['pib_pc'])\n",
        "    plt.title(f'Dispersao entre PIB per capita e {var}')\n",
        "    plt.xlabel(var)\n",
        "    plt.ylabel('PIB per capita')\n",
        "    plt.show()"
      ]
    },
    {
      "cell_type": "code",
      "execution_count": null,
      "metadata": {
        "id": "1Rvekuz4rBsV"
      },
      "outputs": [],
      "source": [
        "    correlacao = df['pib_pc'].corr(df[var])\n",
        "    print(f\"Correlacao entre PIB per capita e {var}: {correlacao:.2f}\")"
      ]
    },
    {
      "cell_type": "markdown",
      "source": [
        "Ha uma correlacao positiva entre PIB per capita e expectativa de vida.\n",
        "Para a taxa de empreendedorismo, a correlacao e mais fraca."
      ],
      "metadata": {
        "id": "X_M58R2CbzVU"
      }
    },
    {
      "cell_type": "markdown",
      "metadata": {
        "id": "vGFtbvHCqVVR"
      },
      "source": [
        "### 11.\tEscreva um parágrafo final, com suas próprias palavras, resumindo os principais achados (1,0 ponto)"
      ]
    },
    {
      "cell_type": "code",
      "execution_count": null,
      "metadata": {
        "id": "Tt-olWLIqlhr"
      },
      "outputs": [],
      "source": []
    },
    {
      "cell_type": "markdown",
      "source": [
        "Resumo Final:\n",
        "A analise dos municipios brasileiros mostrou grande diversidade regional e economica.\n",
        "O PIB per capita varia bastante, com alguns municipios muito acima da media.\n",
        "Municipios de pequeno porte sao a maioria no Brasil.\n",
        "Observou-se que regioes com maior expectativa de vida tendem a ter melhor desempenho economico.\n",
        "As analises tambem indicaram que o uso da mediana e importante para tratar dados faltantes em variaveis sujeitas a outliers.\n"
      ],
      "metadata": {
        "id": "_SxJwOZbb4Z2"
      }
    }
  ],
  "metadata": {
    "colab": {
      "provenance": []
    },
    "kernelspec": {
      "display_name": "Python 3",
      "name": "python3"
    },
    "language_info": {
      "name": "python"
    }
  },
  "nbformat": 4,
  "nbformat_minor": 0
}