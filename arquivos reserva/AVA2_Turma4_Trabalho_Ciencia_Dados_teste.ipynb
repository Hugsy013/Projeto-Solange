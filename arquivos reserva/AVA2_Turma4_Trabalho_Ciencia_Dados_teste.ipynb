
# AVA2 - Turma 4 - Trabalho de Ciencia de Dados
# Alunos: [Inserir Nomes e RAs Aqui]

# Importando bibliotecas necessárias
import pandas as pd
import numpy as np
import seaborn as sns
import matplotlib.pyplot as plt

# Lendo o arquivo de dados
df = pd.read_excel('igm_modificado.xlsx')

# Visualizando as primeiras linhas
df.head()

# 1. Checagens de dados
print("\nInformacoes gerais sobre o dataframe:")
print(df.info())

print("\nResumo estatistico das variaveis numericas:")
print(df.describe())

print("\nChecagem de dados faltantes:")
print(df.isnull().sum())

# Analise:
# Observamos que algumas variaveis possuem dados faltantes. Isso e importante pois influencia as analises futuras.

# 2. Frequencia simples e relativa de duas variaveis categoricas
print("\nFrequencia simples - Regiao:")
print(df['regiao'].value_counts())

print("\nFrequencia relativa - Porte:")
print(df['porte'].value_counts(normalize=True))

# Analise:
# A maioria dos municipios pertence a determinada regiao e a maioria dos municipios sao de pequeno porte.

# 3. Medidas de tendencia central, posicao e dispersao de duas variaveis numericas
variaveis_numericas = ['pib_pc', 'exp_vida']

for var in variaveis_numericas:
    print(f"\nMedidas para {var}:")
    print(f"Media: {df[var].mean():.2f}")
    print(f"Mediana: {df[var].median():.2f}")
    print(f"Desvio padrao: {df[var].std():.2f}")
    print(f"Percentil 75: {df[var].quantile(0.75):.2f}")

# Analise:
# As medias e medianas sao proximas, indicando pouca assimetria. O desvio padrao mostra variacao entre municipios.

# 4. Assimetria das variaveis
print("\nAssimetria:")
print(df['pib_pc'].skew())
print(df['exp_vida'].skew())

# Analise:
# PIB per capita apresenta leve assimetria positiva, indicando alguns municipios muito ricos.
# Expectativa de vida tem distribuicao mais simetrica.

# 5. Grafico de setores de uma variavel categorica
plt.figure(figsize=(6,6))
df['porte'].value_counts().plot.pie(autopct='%1.1f%%', startangle=90, colors=sns.color_palette('pastel'))
plt.title('Distribuicao dos Municipios por Porte')
plt.ylabel('')
plt.show()

# Analise:
# A maioria dos municipios e de pequeno porte, conforme visto tambem nas frequencias.

# 6. Cruzamento entre duas variaveis
cross_tab = pd.crosstab(df['regiao'], df['porte'])
print("\nCruzamento entre Regiao e Porte:")
print(cross_tab)

# Analise:
# Algumas regioes concentram municipios maiores, enquanto outras possuem mais municipios pequenos.

# 7. Variavel com dado faltante
variavel_faltante = 'anos_estudo_empreendedor'

print("\nQuantidade de dados faltantes:")
print(df[variavel_faltante].isnull().sum())

print("Media e Mediana antes da substituicao:")
print(df[variavel_faltante].mean())
print(df[variavel_faltante].median())

# Escolha: como a variavel pode ter outliers, vamos usar a mediana para substituir
mediana_valor = df[variavel_faltante].median()
df[variavel_faltante].fillna(mediana_valor, inplace=True)

print("\nMedia e Mediana depois da substituicao:")
print(df[variavel_faltante].mean())
print(df[variavel_faltante].median())

# Analise:
# Escolhemos a mediana pois ela nao e influenciada por outliers. A media apos substituicao ficou mais proxima da mediana.

# 8. Boxplot de uma variavel numerica
plt.figure(figsize=(8,6))
sns.boxplot(x=df['pib_pc'])
plt.title('Boxplot do PIB per capita')
plt.show()

# Analise:
# O boxplot mostra a presenca de outliers com PIB per capita muito alto em alguns municipios.

# 9. Boxplot da variavel numerica por variavel categórica
plt.figure(figsize=(10,6))
sns.boxplot(x='regiao', y='pib_pc', data=df)
plt.title('Boxplot do PIB per capita por Regiao')
plt.xticks(rotation=45)
plt.show()

# Analise:
# Algumas regioes possuem PIB per capita mais elevado que outras, indicando desigualdades regionais.

# 10. Grafico de dispersao e correlacao
variaveis_para_correlacao = ['exp_vida', 'taxa_empreendedorismo']

for var in variaveis_para_correlacao:
    plt.figure(figsize=(8,6))
    sns.scatterplot(x=df[var], y=df['pib_pc'])
    plt.title(f'Dispersao entre PIB per capita e {var}')
    plt.xlabel(var)
    plt.ylabel('PIB per capita')
    plt.show()

    correlacao = df['pib_pc'].corr(df[var])
    print(f"Correlacao entre PIB per capita e {var}: {correlacao:.2f}")

# Analise:
# Ha uma correlacao positiva entre PIB per capita e expectativa de vida.
# Para a taxa de empreendedorismo, a correlacao e mais fraca.

# 11. Paragrafo final
print("""
Resumo Final:
A analise dos municipios brasileiros mostrou grande diversidade regional e economica.
O PIB per capita varia bastante, com alguns municipios muito acima da media.
Municipios de pequeno porte sao a maioria no Brasil.
Observou-se que regioes com maior expectativa de vida tendem a ter melhor desempenho economico.
As analises tambem indicaram que o uso da mediana e importante para tratar dados faltantes em variaveis sujeitas a outliers.
""")
