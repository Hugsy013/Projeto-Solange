{
 "cells": [
  {
   "cell_type": "markdown",
   "metadata": {
    "id": "G7HUYQ0NQvAh"
   },
   "source": [
    "# AVA2 - Turma 4 - objetivo: fazer uma análise exploratória do dados\n",
    "#### Entrega: até às 23h59 do dia 30/04/2025"
   ]
  },
  {
   "cell_type": "code",
   "execution_count": null,
   "metadata": {
    "id": "fYibnrXoDJl1"
   },
   "outputs": [],
   "source": [
    "########################################################################################################################\n",
    "# Nomes e RAS\n",
    "#\n",
    "#\n",
    "#\n",
    "#"
   ]
  },
  {
   "cell_type": "markdown",
   "metadata": {
    "id": "nQmLpuChbEEH"
   },
   "source": [
    "# Importanto pacotes"
   ]
  },
  {
   "cell_type": "code",
   "execution_count": null,
   "metadata": {
    "id": "7wBQZUTEanSN"
   },
   "outputs": [],
   "source": [
    "# Carrega a biblioteca pandas e atribui um alias chamado \"pd\"\n",
    "import pandas as pd\n",
    "\n",
    "# Visualização de dados\n",
    "import matplotlib.pyplot as plt\n",
    "import seaborn as sns\n",
    "\n",
    "# Deixar colunas e linhas aparentes\n",
    "pd.set_option('display.max_columns', None)\n",
    "pd.set_option('display.max_rows', None)"
   ]
  },
  {
   "cell_type": "markdown",
   "metadata": {
    "id": "MGVouDpubNRX"
   },
   "source": [
    "# Conectando com o drive"
   ]
  },
  {
   "cell_type": "code",
   "execution_count": null,
   "metadata": {
    "id": "vryEJJf6Vw02"
   },
   "outputs": [],
   "source": [
    "# Conexão com o drive\n",
    "from google.colab import drive\n",
    "drive.mount('/content/drive')"
   ]
  },
  {
   "cell_type": "markdown",
   "metadata": {
    "id": "vGWovAwDbTnt"
   },
   "source": [
    "# Leitura da tabela de dados"
   ]
  },
  {
   "cell_type": "code",
   "execution_count": null,
   "metadata": {
    "id": "ecBw6XLpRA_t"
   },
   "outputs": [],
   "source": [
    "# Faz a leitura do arquivo igm_modificado.xlsx\n",
    "df = pd.read_excel('caminho_do_arquivo_igm_modificado.xlsx_que_está_no_seu_drive')\n",
    "\n",
    "# Mostra o número de linhas e de colunas do df\n",
    "df.shape"
   ]
  },
  {
   "cell_type": "markdown",
   "metadata": {
    "id": "-HVebabyp8SX"
   },
   "source": [
    "### 1. Faça as checagens dos dados: utilize 3 comandos que vimos em sala de aula. Um deles, obrigatoriamente, deve ser a sinalização se há ou não dados faltantes em cada uma das colunas. Analise os resultados com suas próprias palavras (0,5 ponto)"
   ]
  },
  {
   "cell_type": "code",
   "execution_count": null,
   "metadata": {
    "id": "GXAUjsTHqcYP"
   },
   "outputs": [],
   "source": []
  },
  {
   "cell_type": "code",
   "execution_count": null,
   "metadata": {
    "id": "eZaFcoHbqcVr"
   },
   "outputs": [],
   "source": []
  },
  {
   "cell_type": "code",
   "execution_count": null,
   "metadata": {
    "id": "P-XQlMQfqcTE"
   },
   "outputs": [],
   "source": []
  },
  {
   "cell_type": "markdown",
   "metadata": {
    "id": "YOzZMclwqDQU"
   },
   "source": [
    "### 2.\tFaça a frequência simples e relativa de 2 variáveis categóricas. Analise os resultados com suas próprias palavras (0,5 ponto)"
   ]
  },
  {
   "cell_type": "code",
   "execution_count": null,
   "metadata": {
    "id": "UDXSk4MtqdI9"
   },
   "outputs": [],
   "source": []
  },
  {
   "cell_type": "code",
   "execution_count": null,
   "metadata": {
    "id": "S1KbPnsAqdGB"
   },
   "outputs": [],
   "source": []
  },
  {
   "cell_type": "code",
   "execution_count": null,
   "metadata": {
    "id": "3VLILSBLqdDo"
   },
   "outputs": [],
   "source": []
  },
  {
   "cell_type": "markdown",
   "metadata": {
    "id": "FCwsgWlYqDNV"
   },
   "source": [
    "### 3.\tApresente as medidas de tendência central, uma medida de posição relativa e uma medida de dispersão de 2 variáveis numéricas. Analise os resultados com suas próprias palavras (1,0 ponto)"
   ]
  },
  {
   "cell_type": "code",
   "execution_count": null,
   "metadata": {
    "id": "ZpKE5c1IqeHd"
   },
   "outputs": [],
   "source": []
  },
  {
   "cell_type": "code",
   "execution_count": null,
   "metadata": {
    "id": "hbsOanF-qeFJ"
   },
   "outputs": [],
   "source": []
  },
  {
   "cell_type": "code",
   "execution_count": null,
   "metadata": {
    "id": "DwGuDqo3qeCL"
   },
   "outputs": [],
   "source": []
  },
  {
   "cell_type": "markdown",
   "metadata": {
    "id": "47OBXJT3qDKk"
   },
   "source": [
    "### 4.\tDas variáveis numéricas escolhidas no item anterior, o que se pode afirmar sobre a assimetria da distribuição. Analise os resultados com suas próprias palavras (1,0 ponto)"
   ]
  },
  {
   "cell_type": "code",
   "execution_count": null,
   "metadata": {
    "id": "r_yGiRxCqe3W"
   },
   "outputs": [],
   "source": []
  },
  {
   "cell_type": "code",
   "execution_count": null,
   "metadata": {
    "id": "RPElkihTqe03"
   },
   "outputs": [],
   "source": []
  },
  {
   "cell_type": "code",
   "execution_count": null,
   "metadata": {
    "id": "4c_9WoaEqex2"
   },
   "outputs": [],
   "source": []
  },
  {
   "cell_type": "markdown",
   "metadata": {
    "id": "F2ohDCn6qDH1"
   },
   "source": [
    "### 5.\tFaça um gráfico de setores ou pizza de uma variável categórica. Analise os resultados com suas próprias palavras (1,0 ponto)"
   ]
  },
  {
   "cell_type": "code",
   "execution_count": null,
   "metadata": {
    "id": "ZwLs2mtxqgPH"
   },
   "outputs": [],
   "source": []
  },
  {
   "cell_type": "code",
   "execution_count": null,
   "metadata": {
    "id": "VvXZLbnTqgId"
   },
   "outputs": [],
   "source": []
  },
  {
   "cell_type": "code",
   "execution_count": null,
   "metadata": {
    "id": "cLY6E1vOqgFe"
   },
   "outputs": [],
   "source": []
  },
  {
   "cell_type": "markdown",
   "metadata": {
    "id": "vvIah-NQqDFL"
   },
   "source": [
    "### 6.\tFaça uma tabela com duas variáveis (cruzamento entre elas). Analise os resultados com suas próprias palavras (1,0 ponto)"
   ]
  },
  {
   "cell_type": "code",
   "execution_count": null,
   "metadata": {
    "id": "7-WQd0TkqhKu"
   },
   "outputs": [],
   "source": []
  },
  {
   "cell_type": "code",
   "execution_count": null,
   "metadata": {
    "id": "dLrykAZ8qhIE"
   },
   "outputs": [],
   "source": []
  },
  {
   "cell_type": "code",
   "execution_count": null,
   "metadata": {
    "id": "Lx6HJLUqqhFj"
   },
   "outputs": [],
   "source": []
  },
  {
   "cell_type": "markdown",
   "metadata": {
    "id": "zBz9ALxdqDCb"
   },
   "source": [
    "### 7.\tEscolha uma variável numérica que tenha dado faltante. Veja qual a quantidade de dados faltantes e calcule a média e mediana dessa variável. Depois, substitua esses dados faltantes pela estatística que melhor se adeque e recalcule a média e mediana. Explique por que escolheu a estatística e analise as alterações nos resultados (1,0 ponto)"
   ]
  },
  {
   "cell_type": "code",
   "execution_count": null,
   "metadata": {
    "id": "vGuezACGqh5v"
   },
   "outputs": [],
   "source": []
  },
  {
   "cell_type": "code",
   "execution_count": null,
   "metadata": {
    "id": "urw8iXPZqh2x"
   },
   "outputs": [],
   "source": []
  },
  {
   "cell_type": "code",
   "execution_count": null,
   "metadata": {
    "id": "ILUE64bFqh0I"
   },
   "outputs": [],
   "source": []
  },
  {
   "cell_type": "markdown",
   "metadata": {
    "id": "EetvkKL6qSlQ"
   },
   "source": [
    "### 8.\tFaça um boxplot de uma variável numérica. Analise os resultados com suas próprias palavras (1,0 ponto)"
   ]
  },
  {
   "cell_type": "code",
   "execution_count": null,
   "metadata": {
    "id": "wlQOQijMqi3U"
   },
   "outputs": [],
   "source": []
  },
  {
   "cell_type": "code",
   "execution_count": null,
   "metadata": {
    "id": "8cOEtPCQqi02"
   },
   "outputs": [],
   "source": []
  },
  {
   "cell_type": "code",
   "execution_count": null,
   "metadata": {
    "id": "gtg-O3yUqiyF"
   },
   "outputs": [],
   "source": []
  },
  {
   "cell_type": "markdown",
   "metadata": {
    "id": "0Rfq3fWUqSii"
   },
   "source": [
    "### 9.\tFaça um boxplot da mesma variável numérica do item anterior por uma categórica. Analise os resultados com suas próprias palavras (1,0 ponto)"
   ]
  },
  {
   "cell_type": "code",
   "execution_count": null,
   "metadata": {
    "id": "q3fL6Ivrqj3Z"
   },
   "outputs": [],
   "source": []
  },
  {
   "cell_type": "code",
   "execution_count": null,
   "metadata": {
    "id": "RPvjJgliqjrZ"
   },
   "outputs": [],
   "source": []
  },
  {
   "cell_type": "code",
   "execution_count": null,
   "metadata": {
    "id": "xOQl05ymqjoh"
   },
   "outputs": [],
   "source": []
  },
  {
   "cell_type": "markdown",
   "metadata": {
    "id": "70ecrJEkqVXy"
   },
   "source": [
    "### 10.\tFaça o gráfico de dispersão da variável pib_pc com outras 2 variáveis numéricas (separadamente). Calcule as correlações entre elas. Analise os resultados com suas próprias palavras (1,0 ponto)"
   ]
  },
  {
   "cell_type": "code",
   "execution_count": null,
   "metadata": {
    "id": "8SE-dsVRqk63"
   },
   "outputs": [],
   "source": []
  },
  {
   "cell_type": "code",
   "execution_count": null,
   "metadata": {
    "id": "DeTR28yfqk4P"
   },
   "outputs": [],
   "source": []
  },
  {
   "cell_type": "code",
   "execution_count": null,
   "metadata": {
    "id": "1Rvekuz4rBsV"
   },
   "outputs": [],
   "source": []
  },
  {
   "cell_type": "markdown",
   "metadata": {
    "id": "vGFtbvHCqVVR"
   },
   "source": [
    "### 11.\tEscreva um parágrafo final, com suas próprias palavras, resumindo os principais achados (1,0 ponto)"
   ]
  },
  {
   "cell_type": "code",
   "execution_count": null,
   "metadata": {
    "id": "Tt-olWLIqlhr"
   },
   "outputs": [],
   "source": []
  }
 ],
 "metadata": {
  "colab": {
   "provenance": [
    {
     "file_id": "19PJQExVAhH1UOtLqoQjSwfTPeQ_sTxv3",
     "timestamp": 1727815574789
    }
   ]
  },
  "kernelspec": {
   "display_name": "Python 3",
   "name": "python3"
  },
  "language_info": {
   "name": "python"
  }
 },
 "nbformat": 4,
 "nbformat_minor": 0
}
